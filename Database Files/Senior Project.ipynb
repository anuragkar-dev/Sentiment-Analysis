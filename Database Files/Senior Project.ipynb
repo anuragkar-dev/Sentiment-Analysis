{
 "cells": [
  {
   "cell_type": "code",
   "execution_count": 8,
   "id": "bc1bd8ba",
   "metadata": {},
   "outputs": [],
   "source": [
    "import pandas as pd\n",
    "import numpy as np\n",
    "import nltk\n",
    "from nltk.sentiment.vader import SentimentIntensityAnalyzer\n",
    "from sklearn.feature_extraction.text import TfidfVectorizer\n",
    "from sklearn.model_selection import train_test_split\n",
    "from sklearn.linear_model import LogisticRegression\n",
    "from sklearn.metrics import classification_report"
   ]
  },
  {
   "cell_type": "code",
   "execution_count": 9,
   "id": "414021d5",
   "metadata": {},
   "outputs": [
    {
     "name": "stderr",
     "output_type": "stream",
     "text": [
      "[nltk_data] Downloading package punkt to\n",
      "[nltk_data]     /Users/muhammadusman/nltk_data...\n",
      "[nltk_data]   Package punkt is already up-to-date!\n",
      "[nltk_data] Downloading package vader_lexicon to\n",
      "[nltk_data]     /Users/muhammadusman/nltk_data...\n",
      "[nltk_data]   Package vader_lexicon is already up-to-date!\n"
     ]
    },
    {
     "data": {
      "text/plain": [
       "True"
      ]
     },
     "execution_count": 9,
     "metadata": {},
     "output_type": "execute_result"
    }
   ],
   "source": [
    "nltk.download('punkt')\n",
    "nltk.download('vader_lexicon')"
   ]
  },
  {
   "cell_type": "code",
   "execution_count": 10,
   "id": "e099c269",
   "metadata": {},
   "outputs": [],
   "source": [
    "df = pd.read_csv(\"amazon_products.csv\")"
   ]
  },
  {
   "cell_type": "code",
   "execution_count": 11,
   "id": "03896612",
   "metadata": {},
   "outputs": [],
   "source": [
    "# Drop rows with missing review data\n",
    "df = df.dropna(subset=['Reviews'])"
   ]
  },
  {
   "cell_type": "code",
   "execution_count": 12,
   "id": "6fce594e",
   "metadata": {},
   "outputs": [],
   "source": [
    "# Tokenize the reviews\n",
    "tokenized_reviews = df['Reviews'].apply(nltk.word_tokenize)"
   ]
  },
  {
   "cell_type": "code",
   "execution_count": 13,
   "id": "e98218b2",
   "metadata": {},
   "outputs": [],
   "source": [
    "# Initialize Sentiment Intensity Analyzer\n",
    "sia = nltk.sentiment.SentimentIntensityAnalyzer()"
   ]
  },
  {
   "cell_type": "code",
   "execution_count": 14,
   "id": "a4fdbc32",
   "metadata": {},
   "outputs": [],
   "source": [
    "# Perform sentiment analysis on each tokenized review and aggregate sentiment scores\n",
    "sentiment_scores = []\n",
    "for review_tokens in tokenized_reviews:\n",
    "    pos_score = 0\n",
    "    neg_score = 0\n",
    "    neu_score = 0\n",
    "    \n",
    "    for token in review_tokens:\n",
    "        sentiment_score = sia.polarity_scores(token)\n",
    "        pos_score += sentiment_score['pos']\n",
    "        neg_score += sentiment_score['neg']\n",
    "        neu_score += sentiment_score['neu']\n",
    "    \n",
    "    total_tokens = len(review_tokens)\n",
    "    pos_score /= total_tokens\n",
    "    neg_score /= total_tokens\n",
    "    neu_score /= total_tokens\n",
    "    \n",
    "    sentiment_scores.append((pos_score, neg_score, neu_score))\n"
   ]
  },
  {
   "cell_type": "code",
   "execution_count": 15,
   "id": "eec30f43",
   "metadata": {},
   "outputs": [],
   "source": [
    "# Split data into features and target\n",
    "X = sentiment_scores\n",
    "y = df['Rating'].apply(lambda x: 'Positive' if x >= 4 else 'Neutral' if x == 3 else 'Negative')\n"
   ]
  },
  {
   "cell_type": "code",
   "execution_count": 16,
   "id": "e60b5f27",
   "metadata": {},
   "outputs": [],
   "source": [
    "# Split data into train and test sets\n",
    "X_train, X_test, y_train, y_test = train_test_split(X, y, test_size=0.2, random_state=42)"
   ]
  },
  {
   "cell_type": "code",
   "execution_count": 22,
   "id": "7443b20e",
   "metadata": {},
   "outputs": [
    {
     "name": "stdout",
     "output_type": "stream",
     "text": [
      "Only one class present in the data: Positive\n"
     ]
    }
   ],
   "source": [
    "# Check unique classes in y\n",
    "unique_classes = y.unique()\n",
    "\n",
    "# If only one class is present, print a message and handle the case accordingly\n",
    "if len(unique_classes) == 1:\n",
    "    print(\"Only one class present in the data:\", unique_classes[0])\n",
    "    # Handle this case appropriately, such as adjusting the data or using a different approach\n",
    "else:\n",
    "    try:\n",
    "        # Split data into train and test sets\n",
    "        X_train, X_test, y_train, y_test = train_test_split(X, y, test_size=0.2, random_state=42)\n",
    "\n",
    "        # Train a Logistic Regression classifier\n",
    "        classifier = LogisticRegression(max_iter=1000)\n",
    "        classifier.fit(X_train, y_train)\n",
    "\n",
    "        # Predict on the test set\n",
    "        y_pred = classifier.predict(X_test)\n",
    "\n",
    "        # Evaluate the model\n",
    "        print(classification_report(y_test, y_pred))\n",
    "\n",
    "        # Perform sentiment analysis on the entire dataset\n",
    "        sentiments = []\n",
    "        for sentiment_score in sentiment_scores:\n",
    "            pos_score, neg_score, neu_score = sentiment_score\n",
    "            if pos_score > neg_score and pos_score > neu_score:\n",
    "                sentiments.append(\"Positive\")\n",
    "            elif neg_score > pos_score and neg_score > neu_score:\n",
    "                sentiments.append(\"Negative\")\n",
    "            else:\n",
    "                sentiments.append(\"Neutral\")\n",
    "\n",
    "        # Add a new column with sentiment analysis results to the dataframe\n",
    "        df['Sentiment'] = sentiments\n",
    "\n",
    "        # Save the updated dataframe to a new CSV file\n",
    "        df.to_csv(\"amazon_products_with_sentiment.csv\", index=False)\n",
    "    except Exception as e:\n",
    "        print(\"Error:\", e)"
   ]
  },
  {
   "cell_type": "code",
   "execution_count": null,
   "id": "9f5d5b0e",
   "metadata": {},
   "outputs": [],
   "source": []
  }
 ],
 "metadata": {
  "kernelspec": {
   "display_name": "Python 3 (ipykernel)",
   "language": "python",
   "name": "python3"
  },
  "language_info": {
   "codemirror_mode": {
    "name": "ipython",
    "version": 3
   },
   "file_extension": ".py",
   "mimetype": "text/x-python",
   "name": "python",
   "nbconvert_exporter": "python",
   "pygments_lexer": "ipython3",
   "version": "3.11.7"
  }
 },
 "nbformat": 4,
 "nbformat_minor": 5
}
