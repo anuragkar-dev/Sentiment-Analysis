{
 "cells": [
  {
   "cell_type": "code",
   "execution_count": 15,
   "id": "9a6be1ce",
   "metadata": {},
   "outputs": [
    {
     "name": "stdout",
     "output_type": "stream",
     "text": [
      "Accuracy: 0.9807692307692307\n"
     ]
    }
   ],
   "source": [
    "import pandas as pd\n",
    "from sklearn.model_selection import train_test_split\n",
    "from sklearn.feature_extraction.text import TfidfVectorizer\n",
    "from sklearn.linear_model import LogisticRegression\n",
    "from sklearn.metrics import accuracy_score\n",
    "\n",
    "# Load the dataset\n",
    "df = pd.read_csv('Final Amazon Products Data.csv')\n",
    "\n",
    "# Handling missing values\n",
    "df['Reviews'].fillna('', inplace=True)\n",
    "\n",
    "# Preprocessing\n",
    "# Assume 'Rating' is numerical, so no additional preprocessing is needed\n",
    "\n",
    "# Tokenization and feature extraction using TF-IDF for the 'Reviews'\n",
    "tfidf_vectorizer = TfidfVectorizer(max_features=1000)  # Adjust max_features as needed\n",
    "X_text = tfidf_vectorizer.fit_transform(df['Reviews'])\n",
    "\n",
    "# Include 'Rating' as a feature\n",
    "X_rating = df['Rating'].values.reshape(-1, 1)\n",
    "\n",
    "# Concatenate the features\n",
    "X = pd.concat([pd.DataFrame(X_text.toarray()), pd.DataFrame(X_rating)], axis=1)\n",
    "\n",
    "# Define thresholds for positive, neutral, and negative ratings\n",
    "positive_threshold = 4\n",
    "negative_threshold = 2\n",
    "\n",
    "# Convert 'Rating' column to categorical based on thresholds\n",
    "df['Sentiment'] = pd.cut(df['Rating'], bins=[-float('inf'), negative_threshold, positive_threshold, float('inf')], labels=['Negative', 'Neutral', 'Positive'])\n",
    "\n",
    "# Target variable\n",
    "y = df['Sentiment']\n",
    "\n",
    "# Splitting the data into training and testing sets\n",
    "X_train, X_test, y_train, y_test = train_test_split(X, y, test_size=0.2, random_state=42)\n",
    "\n",
    "# Training the model (Logistic Regression example)\n",
    "classifier = LogisticRegression(max_iter=1000)\n",
    "classifier.fit(X_train, y_train)\n",
    "\n",
    "# Predicting sentiment for the entire dataset based on 'Rating' column\n",
    "df['Predicted_Sentiment'] = classifier.predict(X)\n",
    "\n",
    "# Assessing accuracy\n",
    "accuracy = accuracy_score(y_test, classifier.predict(X_test))\n",
    "print(f\"Accuracy: {accuracy}\")\n",
    "\n",
    "# Save the updated DataFrame to a new CSV file\n",
    "df.to_csv('amazon_products_with_sentiment.csv', index=False)\n"
   ]
  },
  {
   "cell_type": "code",
   "execution_count": null,
   "id": "866ffc0b",
   "metadata": {},
   "outputs": [],
   "source": []
  }
 ],
 "metadata": {
  "kernelspec": {
   "display_name": "Python 3 (ipykernel)",
   "language": "python",
   "name": "python3"
  },
  "language_info": {
   "codemirror_mode": {
    "name": "ipython",
    "version": 3
   },
   "file_extension": ".py",
   "mimetype": "text/x-python",
   "name": "python",
   "nbconvert_exporter": "python",
   "pygments_lexer": "ipython3",
   "version": "3.11.7"
  }
 },
 "nbformat": 4,
 "nbformat_minor": 5
}
